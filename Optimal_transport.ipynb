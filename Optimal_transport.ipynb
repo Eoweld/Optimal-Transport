{
  "nbformat": 4,
  "nbformat_minor": 0,
  "metadata": {
    "colab": {
      "provenance": []
    },
    "kernelspec": {
      "name": "python3",
      "display_name": "Python 3"
    },
    "language_info": {
      "name": "python"
    }
  },
  "cells": [
    {
      "cell_type": "code",
      "execution_count": 284,
      "metadata": {
        "colab": {
          "base_uri": "https://localhost:8080/"
        },
        "id": "ugoch_nKdn4G",
        "outputId": "14304c0d-d871-4b75-f9b5-ba43d280fcef"
      },
      "outputs": [
        {
          "output_type": "stream",
          "name": "stdout",
          "text": [
            "Looking in indexes: https://pypi.org/simple, https://us-python.pkg.dev/colab-wheels/public/simple/\n",
            "Requirement already satisfied: pulp in /usr/local/lib/python3.8/dist-packages (2.7.0)\n"
          ]
        }
      ],
      "source": [
        "!pip install pulp"
      ]
    },
    {
      "cell_type": "code",
      "source": [
        "import matplotlib.pyplot as plt\n",
        "from PIL import Image\n",
        "import numpy as np\n",
        "import math\n",
        "from pulp import *\n",
        "import numpy as np\n",
        "from math import sqrt"
      ],
      "metadata": {
        "id": "1BTaf2c-j7qO"
      },
      "execution_count": 285,
      "outputs": []
    },
    {
      "cell_type": "code",
      "source": [
        "costs1 = [[1, sqrt(2), 2], [sqrt(2), 1, sqrt(5)]]\n",
        "m_start1 = [3, 1]\n",
        "m_arrival1 = [1, 1, 2]\n",
        "\n",
        "def optimal_solve(costs, m_start, m_arrival):\n",
        "  # Initialise les variables du problème\n",
        "  problem = LpProblem(\"Optimal_transport\", LpMinimize)\n",
        "  paths = [(i, j) for i in range(len(m_start)) for j in range(len(m_arrival))]\n",
        "  path_variables = LpVariable.dicts(\"Path\", (range(len(m_start)), range(len(m_arrival))),\n",
        "                                lowBound=0, cat='Continuous')\n",
        "\n",
        "  # Définit la fonction objective\n",
        "  problem += lpSum([path_variables[i][j] * costs[i][j] for (i, j) in paths])\n",
        "\n",
        "  # Pose les contraintes\n",
        "  for i in range(len(m_start)):\n",
        "      problem += lpSum([path_variables[i][j] for j in range(len(m_arrival))]) == m_start[i]\n",
        "  #print(problem)\n",
        "  for j in range(len(m_arrival)):\n",
        "      problem += lpSum([path_variables[i][j] for i in range(len(m_start))]) == m_arrival[j]\n",
        "\n",
        "  problem.solve()\n",
        "\n",
        "  result = {}\n",
        "  for v in problem.variables():\n",
        "      route = v.name.split(\"_\")[1:]\n",
        "      i, j = int(route[0]), int(route[1])\n",
        "      result[i, j] = v.varValue\n",
        "\n",
        "  optimal_plane = np.zeros((len(m_start), len(m_arrival)))\n",
        "  for i, j in result.keys():\n",
        "    optimal_plane[i,j] = result[i, j]\n",
        "\n",
        "  #print(f\"Plan de transport optimal :\\n{optimal_plane}\")  \n",
        "  #print(problem.objective)\n",
        "  #print(f\"Coût minimal: {value(problem.objective)}\")\n",
        "  return optimal_plane\n",
        "\n",
        "optimal_solve(costs1, m_start1, m_arrival1)"
      ],
      "metadata": {
        "id": "aGc3HToNdqqQ",
        "colab": {
          "base_uri": "https://localhost:8080/"
        },
        "outputId": "74b5d295-921e-4b83-96b7-f1bbdb94e967"
      },
      "execution_count": 286,
      "outputs": [
        {
          "output_type": "execute_result",
          "data": {
            "text/plain": [
              "array([[1., 0., 2.],\n",
              "       [0., 1., 0.]])"
            ]
          },
          "metadata": {},
          "execution_count": 286
        }
      ]
    },
    {
      "cell_type": "code",
      "source": [
        "costs2 = [[1, 1, 2, 1], [1, 1, 1, 2]]\n",
        "m_start2 = [2, 2]\n",
        "m_arrival2 = [1, 1, 1 , 1]\n",
        "optimal_solve(costs2, m_start2, m_arrival2)"
      ],
      "metadata": {
        "colab": {
          "base_uri": "https://localhost:8080/"
        },
        "id": "c_-zzqy5eD5i",
        "outputId": "1bf8bb1c-9749-48aa-fac5-69a48b14f8a7"
      },
      "execution_count": 287,
      "outputs": [
        {
          "output_type": "execute_result",
          "data": {
            "text/plain": [
              "array([[1., 0., 0., 1.],\n",
              "       [0., 1., 1., 0.]])"
            ]
          },
          "metadata": {},
          "execution_count": 287
        }
      ]
    },
    {
      "cell_type": "code",
      "source": [
        "def valid_path(optimal_plane):\n",
        "  list_indices_non_zero = np.argwhere(optimal_plane > 0).tolist()\n",
        "  return list_indices_non_zero"
      ],
      "metadata": {
        "id": "7PBdXxqAeE8g"
      },
      "execution_count": 288,
      "outputs": []
    },
    {
      "cell_type": "code",
      "source": [
        "def color_norm(color):\n",
        "  return int(255-color*255)\n",
        "print(color_norm(0.5))"
      ],
      "metadata": {
        "colab": {
          "base_uri": "https://localhost:8080/"
        },
        "id": "XscsMX7IZnPo",
        "outputId": "9df5f737-1dc2-4653-a94d-d571836546b9"
      },
      "execution_count": 289,
      "outputs": [
        {
          "output_type": "stream",
          "name": "stdout",
          "text": [
            "127\n"
          ]
        }
      ]
    },
    {
      "cell_type": "code",
      "source": [
        "def transport(list_indices_non_zero, start_indices, end_indices, optimal_plane, t_frac):\n",
        "\n",
        "  image = 255 * np.ones((160,160), np.uint8)\n",
        "\n",
        "  for coordinates in list_indices_non_zero:\n",
        "\n",
        "    row_idx = coordinates[0]\n",
        "    col_idx = coordinates[1]\n",
        "    image[int(t_frac * start_indices[row_idx][0] + (1 - t_frac) * end_indices[col_idx][0])][int(t_frac * start_indices[row_idx][1] + (1 - t_frac) * end_indices[col_idx][1])] = color_norm(optimal_plane[row_idx][col_idx])\n",
        "\n",
        "  return image"
      ],
      "metadata": {
        "id": "UDjcencJgBX_"
      },
      "execution_count": 290,
      "outputs": []
    },
    {
      "cell_type": "code",
      "source": [
        "def rectangle(image, corner_coordinates, height, width, color):\n",
        "  \"\"\"\n",
        "    Create a black rectangle for image\n",
        "  \"\"\"\n",
        "\n",
        "  res_image = image.copy()\n",
        "\n",
        "  x_start = corner_coordinates[0]\n",
        "  y_start = corner_coordinates[1]\n",
        "\n",
        "  for i in range(x_start, x_start+height):\n",
        "      for j in range(y_start, y_start+width):\n",
        "          res_image[i][j] = color_norm(color)\n",
        "\n",
        "  return res_image"
      ],
      "metadata": {
        "id": "aZNHYiqwj443"
      },
      "execution_count": 291,
      "outputs": []
    },
    {
      "cell_type": "code",
      "source": [
        "def get_indices_of_zeros(image):\n",
        "  res = np.argwhere(image != 255).tolist()\n",
        "  return res"
      ],
      "metadata": {
        "id": "Gw9BUe7sk0dG"
      },
      "execution_count": 292,
      "outputs": []
    },
    {
      "cell_type": "code",
      "source": [
        "def get_cost_matrix(start_indices, end_indices):\n",
        "\n",
        "  res = np.zeros((len(start_indices), len(end_indices)))\n",
        "\n",
        "  for row_idx in range(len(start_indices)):\n",
        "      for col_idx in range(len(end_indices)):\n",
        "\n",
        "          res[row_idx, col_idx] = math.dist(start_indices[row_idx], end_indices[col_idx])\n",
        "\n",
        "  return res"
      ],
      "metadata": {
        "id": "8aSox2Ajj42Q"
      },
      "execution_count": 293,
      "outputs": []
    },
    {
      "cell_type": "markdown",
      "source": [
        "## Test"
      ],
      "metadata": {
        "id": "g46nloEBkcTL"
      }
    },
    {
      "cell_type": "code",
      "source": [
        "# Generate white backend\n",
        "im1 = 255 * np.ones((160,160), dtype=np.uint8)\n",
        "im2 = 255 * np.ones((160,160), dtype=np.uint8)\n",
        "\n",
        "start_images = rectangle(im1, (10,20), 16, 4, 1)\n",
        "end_images   = rectangle(im2, (100, 100), 16, 8, 0.5)\n",
        "\n",
        "# Create figure\n",
        "fig, ax = plt.subplots(1,5, figsize=(20, 20))\n",
        "ax[0].imshow(start_images, cmap=\"gray\", vmin=0, vmax=255)\n",
        "ax[0].set_title(\"t = 0\")\n",
        "\n",
        "# Get start and end indices (indices of the rectangles)\n",
        "start_indices = get_indices_of_zeros(start_image)\n",
        "end_indices   = get_indices_of_zeros(end_image)\n",
        "\n",
        "# Compute cost matrix\n",
        "cost_matrix = get_cost_matrix(start_indices, end_indices)\n",
        "\n",
        "# Solve the problem \n",
        "mass_start = [1 for i in range(len(start_indices))]\n",
        "mass_end   = [0.5 for i in range(len(end_indices))]\n",
        "\n",
        "optimal_plane = optimal_solve(cost_matrix, mass_start, mass_end)\n",
        "\n",
        "# Compute the valid path\n",
        "list_indices_non_zero = valid_path(optimal_plane)\n",
        "\n",
        "list_t_frac = np.linspace(1/4, 3/4, 3)\n",
        "\n",
        "i = 1\n",
        "\n",
        "for t_frac in list_t_frac[::-1]:\n",
        "\n",
        "  #print(list_indices_non_zero\n",
        "  current_image = transport(list_indices_non_zero, start_indices, end_indices, optimal_plane, t_frac)\n",
        "\n",
        "  ax[i].imshow(current_image, cmap=\"gray\", vmin=0, vmax=255)\n",
        "  ax[i].set_title(f\"t = {1 - t_frac}\")\n",
        "  i += 1\n",
        "\n",
        "ax[i].imshow(end_images, cmap=\"gray\", vmin=0, vmax=255)\n",
        "ax[i].set_title(\"t = 1\")\n",
        "plt.show()\n",
        "\n"
      ],
      "metadata": {
        "colab": {
          "base_uri": "https://localhost:8080/",
          "height": 256
        },
        "id": "x18huQS7j4zp",
        "outputId": "453ed976-82ab-4e90-d6d2-2b7e3af772f5"
      },
      "execution_count": 294,
      "outputs": [
        {
          "output_type": "display_data",
          "data": {
            "text/plain": [
              "<Figure size 1440x1440 with 5 Axes>"
            ],
            "image/png": "[encoded data removed]"
          },
          "metadata": {
            "needs_background": "light"
          }
        }
      ]
    },
    {
      "cell_type": "markdown",
      "source": [],
      "metadata": {
        "id": "kDDLPedifseb"
      }
    }
  ]
}