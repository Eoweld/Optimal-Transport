{
  "cells": [
    {
      "attachments": {},
      "cell_type": "markdown",
      "metadata": {},
      "source": [
        "# Demo of optimal transport on gray rectangles "
      ]
    },
    {
      "cell_type": "code",
      "execution_count": 14,
      "metadata": {
        "id": "1BTaf2c-j7qO"
      },
      "outputs": [],
      "source": [
        "import matplotlib.pyplot as plt\n",
        "from PIL import Image\n",
        "import numpy as np\n",
        "import math\n",
        "from pulp import *\n",
        "import numpy as np\n",
        "from math import sqrt"
      ]
    },
    {
      "cell_type": "code",
      "execution_count": 15,
      "metadata": {
        "colab": {
          "base_uri": "https://localhost:8080/"
        },
        "id": "aGc3HToNdqqQ",
        "outputId": "74b5d295-921e-4b83-96b7-f1bbdb94e967"
      },
      "outputs": [
        {
          "name": "stdout",
          "output_type": "stream",
          "text": [
            "Welcome to the CBC MILP Solver \n",
            "Version: 2.10.5 \n",
            "Build Date: Dec  8 2020 \n",
            "\n",
            "command line - cbc /tmp/2515e9f8df9a4c668bdf451937a47ccc-pulp.mps timeMode elapsed branch printingOptions all solution /tmp/2515e9f8df9a4c668bdf451937a47ccc-pulp.sol (default strategy 1)\n",
            "At line 2 NAME          MODEL\n",
            "At line 3 ROWS\n",
            "At line 10 COLUMNS\n",
            "At line 29 RHS\n",
            "At line 35 BOUNDS\n",
            "At line 36 ENDATA\n",
            "Problem MODEL has 5 rows, 6 columns and 12 elements\n",
            "Coin0008I MODEL read with 0 errors\n",
            "Option for timeMode changed from cpu to elapsed\n",
            "Presolve 2 (-3) rows, 3 (-3) columns and 6 (-6) elements\n",
            "0  Obj 6.6738883 Primal inf 4.1999981 (2) Dual inf 0.65027954 (2)\n",
            "Optimal - objective value 6\n",
            "After Postsolve, objective 6, infeasibilities - dual 0 (0), primal 0 (0)\n",
            "Optimal objective 6 - 0 iterations time 0.002, Presolve 0.00\n",
            "Option for printingOptions changed from normal to all\n",
            "Total time (CPU seconds):       0.00   (Wallclock seconds):       0.00\n",
            "\n"
          ]
        },
        {
          "data": {
            "text/plain": [
              "array([[1., 0., 2.],\n",
              "       [0., 1., 0.]])"
            ]
          },
          "execution_count": 15,
          "metadata": {},
          "output_type": "execute_result"
        }
      ],
      "source": [
        "costs1 = [[1, sqrt(2), 2], [sqrt(2), 1, sqrt(5)]]\n",
        "m_start1 = [3, 1]\n",
        "m_arrival1 = [1, 1, 2]\n",
        "\n",
        "def optimal_solve(costs, m_start, m_arrival):\n",
        "  # Initialise les variables du problème\n",
        "  problem = LpProblem(\"Optimal_transport\", LpMinimize)\n",
        "  paths = [(i, j) for i in range(len(m_start)) for j in range(len(m_arrival))]\n",
        "  path_variables = LpVariable.dicts(\"Path\", (range(len(m_start)), range(len(m_arrival))),\n",
        "                                lowBound=0, cat='Continuous')\n",
        "\n",
        "  # Définit la fonction objective\n",
        "  problem += lpSum([path_variables[i][j] * costs[i][j] for (i, j) in paths])\n",
        "\n",
        "  # Pose les contraintes\n",
        "  for i in range(len(m_start)):\n",
        "      problem += lpSum([path_variables[i][j] for j in range(len(m_arrival))]) == m_start[i]\n",
        "  #print(problem)\n",
        "  for j in range(len(m_arrival)):\n",
        "      problem += lpSum([path_variables[i][j] for i in range(len(m_start))]) == m_arrival[j]\n",
        "\n",
        "  problem.solve()\n",
        "\n",
        "  result = {}\n",
        "  for v in problem.variables():\n",
        "      route = v.name.split(\"_\")[1:]\n",
        "      i, j = int(route[0]), int(route[1])\n",
        "      result[i, j] = v.varValue\n",
        "\n",
        "  optimal_plane = np.zeros((len(m_start), len(m_arrival)))\n",
        "  for i, j in result.keys():\n",
        "    optimal_plane[i,j] = result[i, j]\n",
        "\n",
        "  #print(f\"Plan de transport optimal :\\n{optimal_plane}\")  \n",
        "  #print(problem.objective)\n",
        "  #print(f\"Coût minimal: {value(problem.objective)}\")\n",
        "  return optimal_plane\n",
        "\n",
        "optimal_solve(costs1, m_start1, m_arrival1)"
      ]
    },
    {
      "cell_type": "code",
      "execution_count": 16,
      "metadata": {
        "colab": {
          "base_uri": "https://localhost:8080/"
        },
        "id": "c_-zzqy5eD5i",
        "outputId": "1bf8bb1c-9749-48aa-fac5-69a48b14f8a7"
      },
      "outputs": [
        {
          "name": "stdout",
          "output_type": "stream",
          "text": [
            "Welcome to the CBC MILP Solver \n",
            "Version: 2.10.5 \n",
            "Build Date: Dec  8 2020 \n",
            "\n",
            "command line - cbc /tmp/b1bed4e6cb924c9da303ceaa35eb4216-pulp.mps timeMode elapsed branch printingOptions all solution /tmp/b1bed4e6cb924c9da303ceaa35eb4216-pulp.sol (default strategy 1)\n",
            "At line 2 NAME          MODEL\n",
            "At line 3 ROWS\n",
            "At line 11 COLUMNS\n",
            "At line 36 RHS\n",
            "At line 43 BOUNDS\n",
            "At line 44 ENDATA\n",
            "Problem MODEL has 6 rows, 8 columns and 16 elements\n",
            "Coin0008I MODEL read with 0 errors\n",
            "Option for timeMode changed from cpu to elapsed\n",
            "Presolve 0 (-6) rows, 0 (-8) columns and 0 (-16) elements\n",
            "Empty problem - 0 rows, 0 columns and 0 elements\n",
            "Optimal - objective value 4\n",
            "After Postsolve, objective 4, infeasibilities - dual 0 (0), primal 0 (0)\n",
            "Optimal objective 4 - 0 iterations time 0.002, Presolve 0.00\n",
            "Option for printingOptions changed from normal to all\n",
            "Total time (CPU seconds):       0.00   (Wallclock seconds):       0.00\n",
            "\n"
          ]
        },
        {
          "data": {
            "text/plain": [
              "array([[1., 0., 0., 1.],\n",
              "       [0., 1., 1., 0.]])"
            ]
          },
          "execution_count": 16,
          "metadata": {},
          "output_type": "execute_result"
        }
      ],
      "source": [
        "costs2 = [[1, 1, 2, 1], [1, 1, 1, 2]]\n",
        "m_start2 = [2, 2]\n",
        "m_arrival2 = [1, 1, 1 , 1]\n",
        "optimal_solve(costs2, m_start2, m_arrival2)"
      ]
    },
    {
      "cell_type": "code",
      "execution_count": 17,
      "metadata": {
        "id": "7PBdXxqAeE8g"
      },
      "outputs": [],
      "source": [
        "def valid_path(optimal_plane):\n",
        "  list_indices_non_zero = np.argwhere(optimal_plane > 0).tolist()\n",
        "  return list_indices_non_zero"
      ]
    },
    {
      "cell_type": "code",
      "execution_count": 18,
      "metadata": {
        "colab": {
          "base_uri": "https://localhost:8080/"
        },
        "id": "XscsMX7IZnPo",
        "outputId": "9df5f737-1dc2-4653-a94d-d571836546b9"
      },
      "outputs": [],
      "source": [
        "def color_norm(color):\n",
        "  return int(255-color*255)"
      ]
    },
    {
      "cell_type": "code",
      "execution_count": 19,
      "metadata": {
        "id": "UDjcencJgBX_"
      },
      "outputs": [],
      "source": [
        "def transport(list_indices_non_zero, start_indices, end_indices, optimal_plane, t_frac):\n",
        "\n",
        "  image = 255 * np.ones((160,160), np.uint8)\n",
        "\n",
        "  for coordinates in list_indices_non_zero:\n",
        "\n",
        "    row_idx = coordinates[0]\n",
        "    col_idx = coordinates[1]\n",
        "    image[int(t_frac * start_indices[row_idx][0] + (1 - t_frac) * end_indices[col_idx][0])][int(t_frac * start_indices[row_idx][1] + (1 - t_frac) * end_indices[col_idx][1])] = color_norm(optimal_plane[row_idx][col_idx])\n",
        "\n",
        "  return image"
      ]
    },
    {
      "cell_type": "code",
      "execution_count": 20,
      "metadata": {
        "id": "aZNHYiqwj443"
      },
      "outputs": [],
      "source": [
        "def rectangle(image, corner_coordinates, height, width, color):\n",
        "  \"\"\"\n",
        "    Create a black rectangle for image\n",
        "  \"\"\"\n",
        "\n",
        "  res_image = image.copy()\n",
        "\n",
        "  x_start = corner_coordinates[0]\n",
        "  y_start = corner_coordinates[1]\n",
        "\n",
        "  for i in range(x_start, x_start+height):\n",
        "      for j in range(y_start, y_start+width):\n",
        "          res_image[i][j] = color_norm(color)\n",
        "\n",
        "  return res_image"
      ]
    },
    {
      "cell_type": "code",
      "execution_count": 21,
      "metadata": {
        "id": "Gw9BUe7sk0dG"
      },
      "outputs": [],
      "source": [
        "def get_indices_of_zeros(image):\n",
        "  res = np.argwhere(image != 255).tolist()\n",
        "  return res"
      ]
    },
    {
      "cell_type": "code",
      "execution_count": 22,
      "metadata": {
        "id": "8aSox2Ajj42Q"
      },
      "outputs": [],
      "source": [
        "def get_cost_matrix(start_indices, end_indices):\n",
        "\n",
        "  res = np.zeros((len(start_indices), len(end_indices)))\n",
        "\n",
        "  for row_idx in range(len(start_indices)):\n",
        "      for col_idx in range(len(end_indices)):\n",
        "\n",
        "          res[row_idx, col_idx] = math.dist(start_indices[row_idx], end_indices[col_idx])\n",
        "\n",
        "  return res"
      ]
    },
    {
      "cell_type": "markdown",
      "metadata": {
        "id": "g46nloEBkcTL"
      },
      "source": [
        "## Test"
      ]
    },
    {
      "cell_type": "code",
      "execution_count": 23,
      "metadata": {
        "colab": {
          "base_uri": "https://localhost:8080/",
          "height": 256
        },
        "id": "x18huQS7j4zp",
        "outputId": "453ed976-82ab-4e90-d6d2-2b7e3af772f5"
      },
      "outputs": [
        {
          "name": "stdout",
          "output_type": "stream",
          "text": [
            "Welcome to the CBC MILP Solver \n",
            "Version: 2.10.5 \n",
            "Build Date: Dec  8 2020 \n",
            "\n",
            "command line - cbc /tmp/9c5411a81ad241e6af56d1f9ec1eba04-pulp.mps timeMode elapsed branch printingOptions all solution /tmp/9c5411a81ad241e6af56d1f9ec1eba04-pulp.sol (default strategy 1)\n",
            "At line 2 NAME          MODEL\n",
            "At line 3 ROWS\n",
            "At line 197 COLUMNS\n",
            "At line 24774 RHS\n",
            "At line 24967 BOUNDS\n",
            "At line 24968 ENDATA\n",
            "Problem MODEL has 192 rows, 8192 columns and 16384 elements\n",
            "Coin0008I MODEL read with 0 errors\n",
            "Option for timeMode changed from cpu to elapsed\n",
            "Presolve 192 (0) rows, 8192 (0) columns and 16384 (0) elements\n",
            "Perturbing problem by 0.001% of 136.35982 - largest nonzero change 0.00073508334 ( 0.00056579385%) - largest zero change 0\n",
            "0  Obj 0 Primal inf 127.99998 (192)\n",
            "53  Obj 1794.5554 Primal inf 131.39998 (174)\n",
            "120  Obj 3131.8612 Primal inf 136.19998 (166)\n",
            "181  Obj 3745.2672 Primal inf 144.19998 (164)\n",
            "240  Obj 4356.5876 Primal inf 186.49998 (161)\n",
            "305  Obj 4965.8771 Primal inf 172.39998 (154)\n",
            "372  Obj 5453.7143 Primal inf 196.69999 (141)\n",
            "440  Obj 6063.6367 Primal inf 188.39999 (131)\n",
            "507  Obj 6675.1383 Primal inf 115.89999 (132)\n",
            "566  Obj 7163.4934 Primal inf 199.49999 (125)\n",
            "634  Obj 7647.9975 Primal inf 211.79999 (120)\n",
            "711  Obj 7771.568 Primal inf 137.69999 (120)\n",
            "789  Obj 7781.2702 Primal inf 140.69999 (110)\n",
            "867  Obj 7792.2889 Primal inf 94.699991 (95)\n",
            "945  Obj 7792.3108 Primal inf 47.499991 (87)\n",
            "1023  Obj 7792.3187 Primal inf 15.899995 (55)\n",
            "1080  Obj 7792.3209\n",
            "1080  Obj 7792.2918 Dual inf 0.0053500354 (67)\n",
            "1147  Obj 7792.2907\n",
            "Optimal - objective value 7792.2907\n",
            "Optimal objective 7792.290722 - 1147 iterations time 0.022\n",
            "Option for printingOptions changed from normal to all\n",
            "Total time (CPU seconds):       0.02   (Wallclock seconds):       0.04\n",
            "\n"
          ]
        },
        {
          "data": {
            "image/png": "[encoded data removed]",
            "text/plain": [
              "<Figure size 2000x2000 with 5 Axes>"
            ]
          },
          "metadata": {},
          "output_type": "display_data"
        }
      ],
      "source": [
        "# Generate white backend\n",
        "im1 = 255 * np.ones((160,160), dtype=np.uint8)\n",
        "im2 = 255 * np.ones((160,160), dtype=np.uint8)\n",
        "\n",
        "start_images = rectangle(im1, (10,20), 16, 4, 1)\n",
        "end_images   = rectangle(im2, (100, 100), 16, 8, 0.5)\n",
        "\n",
        "# Create figure\n",
        "fig, ax = plt.subplots(1,5, figsize=(20, 20))\n",
        "ax[0].imshow(start_images, cmap=\"gray\", vmin=0, vmax=255)\n",
        "ax[0].set_title(\"t = 0\")\n",
        "\n",
        "# Get start and end indices (indices of the rectangles)\n",
        "start_indices = get_indices_of_zeros(start_images)\n",
        "end_indices   = get_indices_of_zeros(end_images)\n",
        "\n",
        "# Compute cost matrix\n",
        "cost_matrix = get_cost_matrix(start_indices, end_indices)\n",
        "\n",
        "# Solve the problem \n",
        "mass_start = [1 for i in range(len(start_indices))]\n",
        "mass_end   = [0.5 for i in range(len(end_indices))]\n",
        "\n",
        "optimal_plane = optimal_solve(cost_matrix, mass_start, mass_end)\n",
        "\n",
        "# Compute the valid path\n",
        "list_indices_non_zero = valid_path(optimal_plane)\n",
        "\n",
        "list_t_frac = np.linspace(1/4, 3/4, 3)\n",
        "\n",
        "i = 1\n",
        "\n",
        "for t_frac in list_t_frac[::-1]:\n",
        "\n",
        "  #print(list_indices_non_zero\n",
        "  current_image = transport(list_indices_non_zero, start_indices, end_indices, optimal_plane, t_frac)\n",
        "\n",
        "  ax[i].imshow(current_image, cmap=\"gray\", vmin=0, vmax=255)\n",
        "  ax[i].set_title(f\"t = {1 - t_frac}\")\n",
        "  i += 1\n",
        "\n",
        "ax[i].imshow(end_images, cmap=\"gray\", vmin=0, vmax=255)\n",
        "ax[i].set_title(\"t = 1\")\n",
        "plt.show()\n",
        "\n"
      ]
    },
    {
      "attachments": {},
      "cell_type": "markdown",
      "metadata": {},
      "source": [
        "# Demo of optimal transport on colored rectangles"
      ]
    },
    {
      "cell_type": "code",
      "execution_count": 24,
      "metadata": {},
      "outputs": [],
      "source": [
        "def color_rectangle(image, corner_coordinates, height, width, color):\n",
        "  \"\"\"\n",
        "    Create a black rectangle for image\n",
        "  \"\"\"\n",
        "\n",
        "  res_image = image.copy()\n",
        "\n",
        "  x_start = corner_coordinates[0]\n",
        "  y_start = corner_coordinates[1]\n",
        "\n",
        "  for i in range(x_start, x_start+height):\n",
        "      for j in range(y_start, y_start+width):\n",
        "\n",
        "          res_image[i][j][0] = color[0]\n",
        "          res_image[i][j][1] = color[1]\n",
        "          res_image[i][j][2] = color[2]\n",
        "\n",
        "  return res_image"
      ]
    },
    {
      "attachments": {},
      "cell_type": "markdown",
      "metadata": {},
      "source": [
        "## Test "
      ]
    },
    {
      "cell_type": "code",
      "execution_count": 33,
      "metadata": {},
      "outputs": [
        {
          "name": "stdout",
          "output_type": "stream",
          "text": [
            "Welcome to the CBC MILP Solver \n",
            "Version: 2.10.5 \n",
            "Build Date: Dec  8 2020 \n",
            "\n",
            "command line - cbc /tmp/9a27104baa5b478db2972d970d513b25-pulp.mps timeMode elapsed branch printingOptions all solution /tmp/9a27104baa5b478db2972d970d513b25-pulp.sol (default strategy 1)\n",
            "At line 2 NAME          MODEL\n",
            "At line 3 ROWS\n",
            "At line 581 COLUMNS\n",
            "At line 221766 RHS\n",
            "At line 222343 BOUNDS\n",
            "At line 222344 ENDATA\n",
            "Problem MODEL has 576 rows, 73728 columns and 147456 elements\n",
            "Coin0008I MODEL read with 0 errors\n",
            "Option for timeMode changed from cpu to elapsed\n",
            "Presolve 576 (0) rows, 73728 (0) columns and 147456 (0) elements\n",
            "Perturbing problem by 0.001% of 136.37448 - largest nonzero change 0.00074783088 ( 0.000566032%) - largest zero change 0\n",
            "0  Obj 0 Primal inf 61440 (576)\n",
            "86  Obj 419241.32 Primal inf 62476.1 (555)\n",
            "172  Obj 671773.84 Primal inf 63991.2 (543)\n",
            "248  Obj 886815.26 Primal inf 61930.8 (533)\n",
            "334  Obj 1062094 Primal inf 68719.2 (523)\n",
            "420  Obj 1276379 Primal inf 84322.4 (511)\n",
            "506  Obj 1354603.6 Primal inf 70242.3 (514)\n",
            "592  Obj 1548986 Primal inf 79117.6 (496)\n",
            "678  Obj 1665864.8 Primal inf 75920.7 (490)\n",
            "764  Obj 1859809.1 Primal inf 105396.6 (480)\n",
            "838  Obj 2012997.4 Primal inf 103153.6 (473)\n",
            "924  Obj 2071777.2 Primal inf 95095.8 (462)\n",
            "1010  Obj 2168604.1 Primal inf 69610.8 (444)\n",
            "1096  Obj 2345126.1 Primal inf 125922.3 (442)\n",
            "1182  Obj 2482124.9 Primal inf 117002.7 (448)\n",
            "1268  Obj 2599990.5 Primal inf 118996.6 (429)\n",
            "1354  Obj 2619574.1 Primal inf 90732.8 (432)\n",
            "1440  Obj 2814539.7 Primal inf 136601.2 (423)\n",
            "1526  Obj 2893098 Primal inf 102181.1 (416)\n",
            "1612  Obj 3089296.7 Primal inf 97461.7 (394)\n",
            "1698  Obj 3265420.1 Primal inf 111290.6 (385)\n",
            "1784  Obj 3383510.4 Primal inf 116769 (390)\n",
            "1870  Obj 3560298.1 Primal inf 92314.4 (371)\n",
            "1956  Obj 3736450.8 Primal inf 114991.4 (348)\n",
            "2042  Obj 3737062.5 Primal inf 91438.1 (364)\n",
            "2128  Obj 3738644.5 Primal inf 75444.2 (331)\n",
            "2214  Obj 3740307.9 Primal inf 39313.3 (274)\n",
            "2300  Obj 3740309.5 Primal inf 39371.9 (252)\n",
            "2386  Obj 3740310.6 Primal inf 28181.1 (267)\n",
            "2472  Obj 3740311.4 Primal inf 31836.2 (261)\n",
            "2558  Obj 3740312 Primal inf 23116.2 (243)\n",
            "2644  Obj 3740312.9 Primal inf 15605.8 (256)\n",
            "2730  Obj 3740313.7 Primal inf 10888.8 (206)\n",
            "2816  Obj 3740314 Primal inf 739.59998 (169)\n",
            "2902  Obj 3740314 Primal inf 3.8999961 (39)\n",
            "2935  Obj 3740314\n",
            "2935  Obj 3740300.1 Dual inf 0.072369126 (422)\n",
            "3021  Obj 3740299.9 Dual inf 0.0088375845 (181)\n",
            "3107  Obj 3740299.6 Dual inf 0.0031124232 (87)\n",
            "3187  Obj 3740299.5\n",
            "Optimal - objective value 3740299.5\n",
            "Optimal objective 3740299.546 - 3187 iterations time 0.262\n",
            "Option for printingOptions changed from normal to all\n",
            "Total time (CPU seconds):       0.35   (Wallclock seconds):       0.37\n",
            "\n",
            "Welcome to the CBC MILP Solver \n",
            "Version: 2.10.5 \n",
            "Build Date: Dec  8 2020 \n",
            "\n",
            "command line - cbc /tmp/82f6c1bba3ac43d3b1bb69b613128e06-pulp.mps timeMode elapsed branch printingOptions all solution /tmp/82f6c1bba3ac43d3b1bb69b613128e06-pulp.sol (default strategy 1)\n",
            "At line 2 NAME          MODEL\n",
            "At line 3 ROWS\n",
            "At line 581 COLUMNS\n",
            "At line 221766 RHS\n",
            "At line 222343 BOUNDS\n",
            "At line 222344 ENDATA\n",
            "Problem MODEL has 576 rows, 73728 columns and 147456 elements\n",
            "Coin0008I MODEL read with 0 errors\n",
            "Option for timeMode changed from cpu to elapsed\n",
            "Presolve 576 (0) rows, 73728 (0) columns and 147456 (0) elements\n",
            "Perturbing problem by 0.001% of 136.37448 - largest nonzero change 0.00074783088 ( 0.000566032%) - largest zero change 0\n",
            "0  Obj 0 Primal inf 30720 (576)\n",
            "86  Obj 209620.65 Primal inf 31236.1 (555)\n",
            "172  Obj 335887.04 Primal inf 32872.7 (535)\n",
            "257  Obj 490980.28 Primal inf 33638.4 (522)\n",
            "343  Obj 539991.51 Primal inf 36520.9 (513)\n",
            "429  Obj 635968.6 Primal inf 36486.7 (498)\n",
            "515  Obj 694523.6 Primal inf 32279.1 (505)\n",
            "600  Obj 782601.05 Primal inf 38047.6 (481)\n",
            "686  Obj 870295.52 Primal inf 39894.1 (483)\n",
            "772  Obj 929301.18 Primal inf 40206.1 (470)\n",
            "858  Obj 1026666.5 Primal inf 34741.6 (461)\n",
            "944  Obj 1075724.3 Primal inf 46534.3 (476)\n",
            "1030  Obj 1163084.1 Primal inf 35603.1 (431)\n",
            "1116  Obj 1231683.7 Primal inf 47639.6 (436)\n",
            "1202  Obj 1300394.3 Primal inf 49001.3 (430)\n",
            "1288  Obj 1339618 Primal inf 39881.4 (430)\n",
            "1374  Obj 1417643.5 Primal inf 51236.8 (414)\n",
            "1460  Obj 1447174.4 Primal inf 37874.5 (405)\n",
            "1546  Obj 1535154 Primal inf 44989.7 (393)\n",
            "1632  Obj 1662382.3 Primal inf 48188.5 (363)\n",
            "1718  Obj 1769771.6 Primal inf 46184.9 (353)\n",
            "1804  Obj 1799545.3 Primal inf 38097.9 (360)\n",
            "1890  Obj 1868231.4 Primal inf 42418 (363)\n",
            "1976  Obj 1868628.3 Primal inf 34395.3 (329)\n",
            "2062  Obj 1869320.2 Primal inf 28108.6 (334)\n",
            "2148  Obj 1869347.4 Primal inf 29893.2 (312)\n",
            "2234  Obj 1870154.4 Primal inf 18612.2 (264)\n",
            "2320  Obj 1870155.2 Primal inf 14733.6 (264)\n",
            "2406  Obj 1870155.9 Primal inf 10317.9 (245)\n",
            "2492  Obj 1870156.4 Primal inf 10058.5 (243)\n",
            "2578  Obj 1870156.8 Primal inf 6763.5 (232)\n",
            "2664  Obj 1870156.9 Primal inf 3369 (204)\n",
            "2750  Obj 1870157 Primal inf 12.799989 (110)\n",
            "2820  Obj 1870157\n",
            "2820  Obj 1870150.1 Dual inf 0.069048991 (452)\n",
            "2906  Obj 1870149.9 Dual inf 0.016158416 (262)\n",
            "2992  Obj 1870149.8 Dual inf 0.0045770519 (110)\n",
            "3071  Obj 1870149.8\n",
            "Optimal - objective value 1870149.8\n",
            "Optimal objective 1870149.773 - 3071 iterations time 0.242\n",
            "Option for printingOptions changed from normal to all\n",
            "Total time (CPU seconds):       0.32   (Wallclock seconds):       0.34\n",
            "\n",
            "Welcome to the CBC MILP Solver \n",
            "Version: 2.10.5 \n",
            "Build Date: Dec  8 2020 \n",
            "\n",
            "command line - cbc /tmp/609772393fb049f4b6e75f9b47a2bdc4-pulp.mps timeMode elapsed branch printingOptions all solution /tmp/609772393fb049f4b6e75f9b47a2bdc4-pulp.sol (default strategy 1)\n",
            "At line 2 NAME          MODEL\n",
            "At line 3 ROWS\n",
            "At line 581 COLUMNS\n",
            "At line 221766 RHS\n",
            "At line 222343 BOUNDS\n",
            "At line 222344 ENDATA\n",
            "Problem MODEL has 576 rows, 73728 columns and 147456 elements\n",
            "Coin0008I MODEL read with 0 errors\n",
            "Option for timeMode changed from cpu to elapsed\n",
            "Presolve 576 (0) rows, 73728 (0) columns and 147456 (0) elements\n",
            "Perturbing problem by 0.001% of 136.37448 - largest nonzero change 0.00074783088 ( 0.000566032%) - largest zero change 0\n",
            "0  Obj 0 Primal inf 76800 (576)\n",
            "86  Obj 524051.66 Primal inf 78096.1 (555)\n",
            "170  Obj 791232.2 Primal inf 90601.6 (547)\n",
            "245  Obj 1083084.5 Primal inf 81085.4 (526)\n",
            "330  Obj 1302768.2 Primal inf 97810.4 (524)\n",
            "414  Obj 1592241.7 Primal inf 100719.8 (511)\n",
            "500  Obj 1715082.5 Primal inf 92697 (500)\n",
            "586  Obj 1959050.3 Primal inf 88489.1 (489)\n",
            "671  Obj 2274354.1 Primal inf 104899.6 (482)\n",
            "754  Obj 2565728.7 Primal inf 125491.6 (458)\n",
            "840  Obj 2711381 Primal inf 95485.4 (456)\n",
            "926  Obj 2931189.2 Primal inf 159285.2 (455)\n",
            "1012  Obj 3029263.2 Primal inf 91737.8 (458)\n",
            "1098  Obj 3249771.9 Primal inf 109908.3 (447)\n",
            "1184  Obj 3323265.7 Primal inf 85198.2 (426)\n",
            "1270  Obj 3592253.3 Primal inf 142293.8 (422)\n",
            "1346  Obj 3763858.7 Primal inf 155028.6 (418)\n",
            "1432  Obj 3861856.3 Primal inf 147960.4 (404)\n",
            "1497  Obj 4105871.5 Primal inf 182326.7 (383)\n",
            "1583  Obj 4179938.5 Primal inf 99978.8 (393)\n",
            "1669  Obj 4498558.8 Primal inf 162578.9 (366)\n",
            "1739  Obj 4671078.7 Primal inf 97109.1 (356)\n",
            "1825  Obj 4673303.4 Primal inf 107127.5 (320)\n",
            "1911  Obj 4675381.3 Primal inf 50020.5 (271)\n",
            "1997  Obj 4675383.9 Primal inf 47922.3 (257)\n",
            "2083  Obj 4675386.5 Primal inf 34615.4 (258)\n",
            "2169  Obj 4675389 Primal inf 22107.1 (221)\n",
            "2255  Obj 4675390.1 Primal inf 14706.8 (200)\n",
            "2341  Obj 4675391.4 Primal inf 14506.3 (206)\n",
            "2427  Obj 4675392.1 Primal inf 1810.2 (120)\n",
            "2513  Obj 4675392.6 Primal inf 1.0999989 (11)\n",
            "2529  Obj 4675392.6\n",
            "2529  Obj 4675375.2 Dual inf 0.11115731 (461)\n",
            "2615  Obj 4675374.8 Dual inf 0.0064367742 (136)\n",
            "2701  Obj 4675374.5 Dual inf 0.0014882936 (46)\n",
            "2751  Obj 4675374.4\n",
            "Optimal - objective value 4675374.4\n",
            "Optimal objective 4675374.433 - 2751 iterations time 0.232\n",
            "Option for printingOptions changed from normal to all\n",
            "Total time (CPU seconds):       0.31   (Wallclock seconds):       0.33\n",
            "\n"
          ]
        },
        {
          "data": {
            "image/png": "[encoded data removed]",
            "text/plain": [
              "<Figure size 2000x2000 with 5 Axes>"
            ]
          },
          "metadata": {},
          "output_type": "display_data"
        }
      ],
      "source": [
        "# Generate \n",
        "im1 = np.ones((160, 160, 3), dtype=np.uint8)\n",
        "for i in range(3):\n",
        "  im1[:,:,i] = 255 * im1[:,:,i]\n",
        "\n",
        "im2 = np.ones((160, 160, 3), dtype=np.uint8)\n",
        "for i in range(3):\n",
        "  im2[:,:,i] = 255 * im2[:,:,i]\n",
        "\n",
        "start_images = color_rectangle(im1, corner_coordinates=(10,20), height=16, width=4, color=[160,80,200])\n",
        "end_images   = color_rectangle(im2, corner_coordinates=(100, 100), height=16, width=8, color=[80,40,100])\n",
        "\n",
        "# Create figure\n",
        "fig, ax = plt.subplots(1,5, figsize=(20, 20))\n",
        "ax[0].imshow(start_images)\n",
        "ax[0].set_title(\"t = 0\")\n",
        "\n",
        "# Get start and end indices (indices of the rectangles)\n",
        "start_indices = get_indices_of_zeros(start_images)\n",
        "end_indices   = get_indices_of_zeros(end_images)\n",
        "\n",
        "# Compute cost matrix\n",
        "cost_matrix = get_cost_matrix(start_indices, end_indices)\n",
        "\n",
        "# Solve the problem \n",
        "mass_start0    = [160 for i in range(len(start_indices))]\n",
        "mass_end0      = [80 for i in range(len(end_indices))]\n",
        "optimal_plane0 = optimal_solve(cost_matrix, mass_start0, mass_end0)\n",
        "\n",
        "mass_start1    = [80 for i in range(len(start_indices))]\n",
        "mass_end1      = [40 for i in range(len(end_indices))]\n",
        "optimal_plane1 = optimal_solve(cost_matrix, mass_start1, mass_end1)\n",
        "\n",
        "mass_start2    = [200 for i in range(len(start_indices))]\n",
        "mass_end2      = [100 for i in range(len(end_indices))]\n",
        "optimal_plane2 = optimal_solve(cost_matrix, mass_start2, mass_end2)\n",
        "\n",
        "# Compute the valid path\n",
        "list_indices_non_zero0 = valid_path(optimal_plane0)\n",
        "list_indices_non_zero1 = valid_path(optimal_plane1)\n",
        "list_indices_non_zero2 = valid_path(optimal_plane2)\n",
        "\n",
        "list_t_frac = np.linspace(1/4, 3/4, 3)\n",
        "\n",
        "i = 1\n",
        "\n",
        "for t_frac in list_t_frac[::-1]:\n",
        "\n",
        "  #print(list_indices_non_zero\n",
        "  current_image0 = transport(list_indices_non_zero0, start_indices, end_indices, optimal_plane, t_frac)\n",
        "  current_image1 = transport(list_indices_non_zero1, start_indices, end_indices, optimal_plane, t_frac)\n",
        "  current_image2 = transport(list_indices_non_zero2, start_indices, end_indices, optimal_plane, t_frac)\n",
        "  #current_image = current_image.astype(np.uint8)\n",
        "\n",
        "  displacement_image = np.zeros(shape=(current_image0.shape[0], current_image0.shape[1], 3), dtype=np.uint8)\n",
        "\n",
        "  # Filling the channels\n",
        "  displacement_image[:,:,0] = current_image0\n",
        "  displacement_image[:,:,1] = current_image1\n",
        "  displacement_image[:,:,2] = current_image2\n",
        "\n",
        "  ax[i].imshow(displacement_image)\n",
        "  ax[i].set_title(f\"t = {1 - t_frac}\")\n",
        "  i += 1\n",
        "\n",
        "ax[i].imshow(end_images)\n",
        "ax[i].set_title(\"t = 1\")\n",
        "plt.show()\n"
      ]
    }
  ],
  "metadata": {
    "colab": {
      "provenance": []
    },
    "kernelspec": {
      "display_name": "base",
      "language": "python",
      "name": "python3"
    },
    "language_info": {
      "codemirror_mode": {
        "name": "ipython",
        "version": 3
      },
      "file_extension": ".py",
      "mimetype": "text/x-python",
      "name": "python",
      "nbconvert_exporter": "python",
      "pygments_lexer": "ipython3",
      "version": "3.9.13 (main, Aug 25 2022, 23:26:10) \n[GCC 11.2.0]"
    },
    "vscode": {
      "interpreter": {
        "hash": "c8cc5b7cf7ab45a4eb9c5d10fcde61976ab495d4e3d71a8f87de6440d779c3fd"
      }
    }
  },
  "nbformat": 4,
  "nbformat_minor": 0
}
