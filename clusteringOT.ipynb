{
 "cells": [
  {
   "cell_type": "code",
   "execution_count": 1211,
   "metadata": {},
   "outputs": [],
   "source": [
    "import math\n",
    "from PIL import Image\n",
    "import numpy as np\n",
    "from sklearn.cluster import KMeans\n",
    "from pulp import *"
   ]
  },
  {
   "cell_type": "code",
   "execution_count": 1212,
   "metadata": {},
   "outputs": [],
   "source": [
    "img1 = Image.open(\"astre_bleu2.png\")\n",
    "img2 = Image.open(\"astre_rouge1.png\")"
   ]
  },
  {
   "cell_type": "code",
   "execution_count": 1213,
   "metadata": {},
   "outputs": [],
   "source": [
    "img1_array = np.array(img1)\n",
    "img2_array = np.array(img2)"
   ]
  },
  {
   "cell_type": "code",
   "execution_count": 1214,
   "metadata": {},
   "outputs": [
    {
     "name": "stdout",
     "output_type": "stream",
     "text": [
      "(300, 300, 3)\n",
      "270000\n",
      "[3 3 6]\n",
      "3\n"
     ]
    }
   ],
   "source": [
    "print(img1_array.shape)\n",
    "print(img1_array.size)\n",
    "print(img1_array[0][0])\n",
    "print(img1_array[0][0][0])"
   ]
  },
  {
   "cell_type": "code",
   "execution_count": 1215,
   "metadata": {},
   "outputs": [],
   "source": [
    "pixel_matrix = img1_array.reshape(-1, 3)\n",
    "pixel_matrix2 = img2_array.reshape(-1, 3)"
   ]
  },
  {
   "cell_type": "code",
   "execution_count": 1216,
   "metadata": {},
   "outputs": [],
   "source": [
    "number_cluster = 10\n",
    "kmeans1 = KMeans(n_clusters=number_cluster, random_state=0).fit(pixel_matrix)\n",
    "kmeans2 = KMeans(n_clusters=number_cluster, random_state=0).fit(pixel_matrix2)"
   ]
  },
  {
   "cell_type": "code",
   "execution_count": 1217,
   "metadata": {},
   "outputs": [],
   "source": [
    "new_img_array = np.zeros_like(pixel_matrix)\n",
    "for i, label in enumerate(kmeans1.labels_):\n",
    "    new_img_array[i] = kmeans1.cluster_centers_[label]\n",
    "new_img = new_img_array.reshape(img1_array.shape)\n",
    "\n",
    "new_img_array2 = np.zeros_like(pixel_matrix2)\n",
    "for i, label in enumerate(kmeans2.labels_):\n",
    "    new_img_array2[i] = kmeans2.cluster_centers_[label]\n",
    "new_img2 = new_img_array2.reshape(img2_array.shape)"
   ]
  },
  {
   "cell_type": "code",
   "execution_count": 1218,
   "metadata": {},
   "outputs": [],
   "source": [
    "Image.fromarray(new_img).show()\n",
    "Image.fromarray(new_img).save('clustered1_' + str(number_cluster) + 'clust.jpg')"
   ]
  },
  {
   "cell_type": "code",
   "execution_count": 1219,
   "metadata": {},
   "outputs": [],
   "source": [
    "Image.fromarray(new_img2).show()\n",
    "Image.fromarray(new_img2).save('clustered2_' + str(number_cluster) + 'clust.jpg')"
   ]
  },
  {
   "cell_type": "code",
   "execution_count": 1220,
   "metadata": {},
   "outputs": [
    {
     "data": {
      "text/plain": [
       "\" 1ère étape : Définir notre matrice de coût avec les distances euclidiennes entre les clusters_centers_ \\n    2ème étape : Définir les masses de chacun des clusters en utilisant np.count_nonzero(kmeans1.labels_ == i) pour i allant de 0 à kmeans1.cluster_centers_.shape[0]\\n    qu'on divisera, si nécessaire, par le nombre total de pixel de l'image (qu'on obtient par exemple avec img_array.size // 3) pour construire les arrays des masses des deux images\\n    3ème étape : On résout le problème de transport optimal avec Pulp\\n    4ème étape : Avec le plan de transport/matrice de couplage, pour l'instant, on implémente une fonction qui à partir de la deuxième image effectue une permutation de ses pixels.\\n    Plus précisément, on itére sur les tous chemins/routes possibles, et on pour chaque chemin, i.e pour le cluster i de la première image vers le cluster j de la deuxième,\\n    on regarde le nombre de pixels à transporter et on les transporte.\\n\""
      ]
     },
     "execution_count": 1220,
     "metadata": {},
     "output_type": "execute_result"
    }
   ],
   "source": [
    "\"\"\" 1ère étape : Définir notre matrice de coût avec les distances euclidiennes entre les clusters_centers_ \n",
    "    2ème étape : Définir les masses de chacun des clusters en utilisant np.count_nonzero(kmeans1.labels_ == i) pour i allant de 0 à kmeans1.cluster_centers_.shape[0]\n",
    "    qu'on divisera, si nécessaire, par le nombre total de pixel de l'image (qu'on obtient par exemple avec img_array.size // 3) pour construire les arrays des masses des deux images\n",
    "    3ème étape : On résout le problème de transport optimal avec Pulp\n",
    "    4ème étape : Avec le plan de transport/matrice de couplage, pour l'instant, on implémente une fonction qui à partir de la deuxième image effectue une permutation de ses pixels.\n",
    "    Plus précisément, on itére sur les tous chemins/routes possibles, et on pour chaque chemin, i.e pour le cluster i de la première image vers le cluster j de la deuxième,\n",
    "    on regarde le nombre de pixels à transporter et on les transporte.\n",
    "\"\"\""
   ]
  },
  {
   "cell_type": "code",
   "execution_count": 1221,
   "metadata": {},
   "outputs": [],
   "source": [
    "def get_cost_matrix(cluster_start, cluster_arrival):\n",
    "\n",
    "    height, width = cluster_start.shape[0], cluster_arrival.shape[0]\n",
    "    \n",
    "    res = np.zeros((height, width), dtype=np.float16)\n",
    "\n",
    "    for i in range(height):\n",
    "        for j in range(width):\n",
    "            res[i, j] = math.dist(cluster_start[i], cluster_arrival[j])\n",
    "    return res\n"
   ]
  },
  {
   "cell_type": "code",
   "execution_count": 1222,
   "metadata": {},
   "outputs": [],
   "source": [
    "test = np.zeros((2, 3), dtype=np.float16)"
   ]
  },
  {
   "cell_type": "code",
   "execution_count": 1223,
   "metadata": {},
   "outputs": [],
   "source": [
    "cost_matrix = get_cost_matrix(kmeans1.cluster_centers_, kmeans2.cluster_centers_)"
   ]
  },
  {
   "cell_type": "code",
   "execution_count": 1224,
   "metadata": {},
   "outputs": [],
   "source": [
    "m_start = [np.count_nonzero(kmeans1.labels_ == i) for i in range(kmeans1.cluster_centers_.shape[0])]\n",
    "m_arrival = [np.count_nonzero(kmeans2.labels_ == i) for i in range(kmeans2.cluster_centers_.shape[0])]"
   ]
  },
  {
   "cell_type": "code",
   "execution_count": 1225,
   "metadata": {},
   "outputs": [],
   "source": [
    "def optimal_solve(costs, m_start, m_arrival):\n",
    "  # Initialise les variables du probleme\n",
    "  problem = LpProblem(\"Optimal_transport\", LpMinimize)\n",
    "  paths = [(i, j) for i in range(len(m_start)) for j in range(len(m_arrival))]\n",
    "  path_variables = LpVariable.dicts(\"Path\", (range(len(m_start)), range(len(m_arrival))),\n",
    "                                lowBound=0, cat='Integer')\n",
    "\n",
    "  # Definit la fonction objective\n",
    "  problem += lpSum([path_variables[i][j] * costs[i][j] for (i, j) in paths])\n",
    "\n",
    "  # Pose les contraintes\n",
    "  for i in range(len(m_start)):\n",
    "      problem += lpSum([path_variables[i][j] for j in range(len(m_arrival))]) == m_start[i]\n",
    "  for j in range(len(m_arrival)):\n",
    "      problem += lpSum([path_variables[i][j] for i in range(len(m_start))]) == m_arrival[j]\n",
    "  # Utilise la méthode solve() associee à l'objet de type LpProblem pour resoudre le problème de programmation lineaire  \n",
    "  problem.solve()\n",
    "\n",
    "  # Stocke les resultats dans un dictionnaire\n",
    "  result = {}\n",
    "  for v in problem.variables():\n",
    "      route = v.name.split(\"_\")[1:]\n",
    "      i, j = int(route[0]), int(route[1])\n",
    "      result[i, j] = v.varValue\n",
    "  # Construit la matrice de couplage / le plan de transport optimal  \n",
    "  optimal_plan = np.zeros((len(m_start), len(m_arrival)))\n",
    "  for i, j in result.keys():\n",
    "    optimal_plan[i,j] = result[i, j]\n",
    "  return optimal_plan\n"
   ]
  },
  {
   "cell_type": "code",
   "execution_count": 1226,
   "metadata": {},
   "outputs": [
    {
     "name": "stdout",
     "output_type": "stream",
     "text": [
      "Welcome to the CBC MILP Solver \n",
      "Version: 2.10.5 \n",
      "Build Date: Dec  8 2020 \n",
      "\n",
      "command line - cbc /tmp/1c8f2b4876c341448b55f312a8cecf30-pulp.mps timeMode elapsed branch printingOptions all solution /tmp/1c8f2b4876c341448b55f312a8cecf30-pulp.sol (default strategy 1)\n",
      "At line 2 NAME          MODEL\n",
      "At line 3 ROWS\n",
      "At line 25 COLUMNS\n",
      "At line 526 RHS\n",
      "At line 547 BOUNDS\n",
      "At line 648 ENDATA\n",
      "Problem MODEL has 20 rows, 100 columns and 200 elements\n",
      "Coin0008I MODEL read with 0 errors\n",
      "Option for timeMode changed from cpu to elapsed\n",
      "Continuous objective value is 9.73884e+06 - 0.00 seconds\n",
      "Cgl0004I processed model has 20 rows, 100 columns (100 integer (0 of which binary)) and 200 elements\n",
      "Cbc0012I Integer solution of 9738837.7 found by DiveCoefficient after 0 iterations and 0 nodes (0.05 seconds)\n",
      "Cbc0001I Search completed - best objective 9738837.671875, took 0 iterations and 0 nodes (0.05 seconds)\n",
      "Cbc0035I Maximum depth 0, 0 variables fixed on reduced cost\n",
      "Cuts at root node changed objective from 9.73884e+06 to 9.73884e+06\n",
      "Probing was tried 0 times and created 0 cuts of which 0 were active after adding rounds of cuts (0.000 seconds)\n",
      "Gomory was tried 0 times and created 0 cuts of which 0 were active after adding rounds of cuts (0.000 seconds)\n",
      "Knapsack was tried 0 times and created 0 cuts of which 0 were active after adding rounds of cuts (0.000 seconds)\n",
      "Clique was tried 0 times and created 0 cuts of which 0 were active after adding rounds of cuts (0.000 seconds)\n",
      "MixedIntegerRounding2 was tried 0 times and created 0 cuts of which 0 were active after adding rounds of cuts (0.000 seconds)\n",
      "FlowCover was tried 0 times and created 0 cuts of which 0 were active after adding rounds of cuts (0.000 seconds)\n",
      "TwoMirCuts was tried 0 times and created 0 cuts of which 0 were active after adding rounds of cuts (0.000 seconds)\n",
      "ZeroHalf was tried 0 times and created 0 cuts of which 0 were active after adding rounds of cuts (0.000 seconds)\n",
      "\n",
      "Result - Optimal solution found\n",
      "\n",
      "Objective value:                9738837.67187500\n",
      "Enumerated nodes:               0\n",
      "Total iterations:               0\n",
      "Time (CPU seconds):             0.01\n",
      "Time (Wallclock seconds):       0.05\n",
      "\n",
      "Option for printingOptions changed from normal to all\n",
      "Total time (CPU seconds):       0.01   (Wallclock seconds):       0.05\n",
      "\n"
     ]
    }
   ],
   "source": [
    "optimal_plan = optimal_solve(cost_matrix, m_start, m_arrival)"
   ]
  },
  {
   "cell_type": "code",
   "execution_count": 1227,
   "metadata": {},
   "outputs": [],
   "source": [
    "def map_labels(img_array):\n",
    "    map = {}\n",
    "    size = img_array.size // 3\n",
    "    \n"
   ]
  },
  {
   "cell_type": "code",
   "execution_count": 1228,
   "metadata": {},
   "outputs": [],
   "source": [
    "def recolorized_image_array(img1_array, pixel_matrix2, optimal_plan, kmeans1, kmeans2, m_start):\n",
    "        \n",
    "    res = np.zeros_like(pixel_matrix2)\n",
    "    unavailable_mass = [0 for l in range(len(m_start))]\n",
    "    for j in range(kmeans2.cluster_centers_.shape[0]):\n",
    "        counter = 0\n",
    "        arg_cluster = np.where(kmeans2.labels_ == j)[0]\n",
    "        for i in range(kmeans1.cluster_centers_.shape[0]):\n",
    "            if optimal_plan[i][j] != 0.:\n",
    "                target_positions = np.where(kmeans1.labels_ == i)[0][unavailable_mass[i]: unavailable_mass[i] + int(optimal_plan[i][j])]\n",
    "                for pos in target_positions:\n",
    "                    res[pos] = pixel_matrix2[arg_cluster[counter]]\n",
    "                    counter += 1\n",
    "                unavailable_mass[i] += int(optimal_plan[i][j])\n",
    "    new_img = res.reshape(img1_array.shape)\n",
    "    return new_img"
   ]
  },
  {
   "cell_type": "code",
   "execution_count": 1229,
   "metadata": {},
   "outputs": [],
   "source": [
    "test_img = recolorized_image_array(img1_array, pixel_matrix2, optimal_plan, kmeans1, kmeans2, m_start)"
   ]
  },
  {
   "cell_type": "code",
   "execution_count": 1230,
   "metadata": {},
   "outputs": [],
   "source": [
    "Image.fromarray(test_img).show()\n",
    "Image.fromarray(test_img).save('result_' + str(number_cluster) + 'clust.jpg')"
   ]
  }
 ],
 "metadata": {
  "kernelspec": {
   "display_name": "base",
   "language": "python",
   "name": "python3"
  },
  "language_info": {
   "codemirror_mode": {
    "name": "ipython",
    "version": 3
   },
   "file_extension": ".py",
   "mimetype": "text/x-python",
   "name": "python",
   "nbconvert_exporter": "python",
   "pygments_lexer": "ipython3",
   "version": "3.9.13"
  },
  "orig_nbformat": 4,
  "vscode": {
   "interpreter": {
    "hash": "0b69aab57f2a7a06b785198a96cb1f25f01187f038a0e42eac04670237f59431"
   }
  }
 },
 "nbformat": 4,
 "nbformat_minor": 2
}
