{
 "cells": [
  {
   "cell_type": "code",
   "execution_count": 846,
   "metadata": {},
   "outputs": [],
   "source": [
    "import math\n",
    "from PIL import Image\n",
    "import numpy as np\n",
    "from sklearn.cluster import KMeans\n",
    "from pulp import *"
   ]
  },
  {
   "cell_type": "code",
   "execution_count": 847,
   "metadata": {},
   "outputs": [],
   "source": [
    "img1 = Image.open(\"test1.jpg\")\n",
    "img2 = Image.open(\"test2.jpg\")"
   ]
  },
  {
   "cell_type": "code",
   "execution_count": 848,
   "metadata": {},
   "outputs": [],
   "source": [
    "img1_array = np.array(img1)\n",
    "img2_array = np.array(img2)"
   ]
  },
  {
   "cell_type": "code",
   "execution_count": 849,
   "metadata": {},
   "outputs": [
    {
     "name": "stdout",
     "output_type": "stream",
     "text": [
      "(213, 320, 3)\n",
      "204480\n",
      "[104 105 100]\n",
      "104\n"
     ]
    }
   ],
   "source": [
    "print(img1_array.shape)\n",
    "print(img1_array.size)\n",
    "print(img1_array[0][0])\n",
    "print(img1_array[0][0][0])"
   ]
  },
  {
   "cell_type": "code",
   "execution_count": 850,
   "metadata": {},
   "outputs": [
    {
     "name": "stdout",
     "output_type": "stream",
     "text": [
      "[[194 232 211]\n",
      " [198 236 215]\n",
      " [197 232 210]\n",
      " ...\n",
      " [ 93  98  66]\n",
      " [ 75  85  51]\n",
      " [ 64  73  46]]\n"
     ]
    }
   ],
   "source": [
    "pixel_matrix = img1_array.reshape(-1, 3)\n",
    "pixel_matrix2 = img2_array.reshape(-1, 3)\n",
    "print(pixel_matrix2)"
   ]
  },
  {
   "cell_type": "code",
   "execution_count": 851,
   "metadata": {},
   "outputs": [],
   "source": [
    "number_cluster = 3\n",
    "kmeans1 = KMeans(n_clusters=number_cluster, random_state=0).fit(pixel_matrix)\n",
    "kmeans2 = KMeans(n_clusters=number_cluster, random_state=0).fit(pixel_matrix2)"
   ]
  },
  {
   "cell_type": "code",
   "execution_count": 852,
   "metadata": {},
   "outputs": [],
   "source": [
    "new_img_array = np.zeros_like(pixel_matrix)\n",
    "for i, label in enumerate(kmeans1.labels_):\n",
    "    new_img_array[i] = kmeans1.cluster_centers_[label]\n",
    "new_img = new_img_array.reshape(img1_array.shape)\n",
    "\n",
    "new_img_array2 = np.zeros_like(pixel_matrix2)\n",
    "for i, label in enumerate(kmeans2.labels_):\n",
    "    new_img_array2[i] = kmeans2.cluster_centers_[label]\n",
    "new_img2 = new_img_array2.reshape(img2_array.shape)"
   ]
  },
  {
   "cell_type": "code",
   "execution_count": 853,
   "metadata": {},
   "outputs": [],
   "source": [
    "Image.fromarray(new_img).show()\n",
    "Image.fromarray(new_img).save('clustered1_' + str(number_cluster) + 'clust.jpg')"
   ]
  },
  {
   "cell_type": "code",
   "execution_count": 854,
   "metadata": {},
   "outputs": [],
   "source": [
    "Image.fromarray(new_img2).show()\n",
    "Image.fromarray(new_img2).save('clustered2_' + str(number_cluster) + 'clust.jpg')"
   ]
  },
  {
   "cell_type": "code",
   "execution_count": 855,
   "metadata": {},
   "outputs": [
    {
     "data": {
      "text/plain": [
       "\" 1ère étape : Définir notre matrice de coût avec les distances euclidiennes entre les clusters_centers_ \\n    2ème étape : Définir les masses de chacun des clusters en utilisant np.count_nonzero(kmeans1.labels_ == i) pour i allant de 0 à kmeans1.cluster_centers_.shape[0]\\n    qu'on divisera, si nécessaire, par le nombre total de pixel de l'image (qu'on obtient par exemple avec img_array.size // 3) pour construire les arrays des masses des deux images\\n    3ème étape : On résout le problème de transport optimal avec Pulp\\n    4ème étape : Avec le plan de transport/matrice de couplage, pour l'instant, on implémente une fonction qui à partir de la deuxième image effectue une permutation de ses pixels.\\n    Plus précisément, on itére sur les tous chemins/routes possibles, et on pour chaque chemin, i.e pour le cluster i de la première image vers le cluster j de la deuxième,\\n    on regarde le nombre de pixels à transporter et on les transporte.\\n\""
      ]
     },
     "execution_count": 855,
     "metadata": {},
     "output_type": "execute_result"
    }
   ],
   "source": [
    "\"\"\" 1ère étape : Définir notre matrice de coût avec les distances euclidiennes entre les clusters_centers_ \n",
    "    2ème étape : Définir les masses de chacun des clusters en utilisant np.count_nonzero(kmeans1.labels_ == i) pour i allant de 0 à kmeans1.cluster_centers_.shape[0]\n",
    "    qu'on divisera, si nécessaire, par le nombre total de pixel de l'image (qu'on obtient par exemple avec img_array.size // 3) pour construire les arrays des masses des deux images\n",
    "    3ème étape : On résout le problème de transport optimal avec Pulp\n",
    "    4ème étape : Avec le plan de transport/matrice de couplage, pour l'instant, on implémente une fonction qui à partir de la deuxième image effectue une permutation de ses pixels.\n",
    "    Plus précisément, on itére sur les tous chemins/routes possibles, et on pour chaque chemin, i.e pour le cluster i de la première image vers le cluster j de la deuxième,\n",
    "    on regarde le nombre de pixels à transporter et on les transporte.\n",
    "\"\"\""
   ]
  },
  {
   "cell_type": "code",
   "execution_count": 856,
   "metadata": {},
   "outputs": [],
   "source": [
    "def get_cost_matrix(cluster_start, cluster_arrival):\n",
    "\n",
    "    height, width = cluster_start.shape[0], cluster_arrival.shape[0]\n",
    "    \n",
    "    res = np.zeros((height, width), dtype=np.float16)\n",
    "\n",
    "    for i in range(height):\n",
    "        for j in range(width):\n",
    "            res[i, j] = math.dist(cluster_start[i], cluster_arrival[j])\n",
    "    return res\n"
   ]
  },
  {
   "cell_type": "code",
   "execution_count": 857,
   "metadata": {},
   "outputs": [],
   "source": [
    "test = np.zeros((2, 3), dtype=np.float16)"
   ]
  },
  {
   "cell_type": "code",
   "execution_count": 858,
   "metadata": {},
   "outputs": [
    {
     "name": "stdout",
     "output_type": "stream",
     "text": [
      "[[104.7   33.8  229.  ]\n",
      " [ 33.22 144.8  157.9 ]\n",
      " [118.25 180.5   81.25]] (3, 3)\n"
     ]
    }
   ],
   "source": [
    "cost_matrix = get_cost_matrix(kmeans1.cluster_centers_, kmeans2.cluster_centers_)\n",
    "print(cost_matrix, cost_matrix.shape)"
   ]
  },
  {
   "cell_type": "code",
   "execution_count": 859,
   "metadata": {},
   "outputs": [
    {
     "name": "stdout",
     "output_type": "stream",
     "text": [
      "[3, 23416, 19344] [25400, 23416, 19344]\n"
     ]
    }
   ],
   "source": [
    "m_start = [np.count_nonzero(kmeans1.labels_ == i) for i in range(kmeans1.cluster_centers_.shape[0])]\n",
    "m_arrival = [np.count_nonzero(kmeans2.labels_ == i) for i in range(kmeans2.cluster_centers_.shape[0])]\n",
    "m = m_start.copy()\n",
    "m[0] = 3\n",
    "print(m, m_start)"
   ]
  },
  {
   "cell_type": "code",
   "execution_count": 860,
   "metadata": {},
   "outputs": [],
   "source": [
    "def optimal_solve(costs, m_start, m_arrival):\n",
    "  # Initialise les variables du probleme\n",
    "  problem = LpProblem(\"Optimal_transport\", LpMinimize)\n",
    "  paths = [(i, j) for i in range(len(m_start)) for j in range(len(m_arrival))]\n",
    "  path_variables = LpVariable.dicts(\"Path\", (range(len(m_start)), range(len(m_arrival))),\n",
    "                                lowBound=0, cat='Integer')\n",
    "\n",
    "  # Definit la fonction objective\n",
    "  problem += lpSum([path_variables[i][j] * costs[i][j] for (i, j) in paths])\n",
    "\n",
    "  # Pose les contraintes\n",
    "  for i in range(len(m_start)):\n",
    "      problem += lpSum([path_variables[i][j] for j in range(len(m_arrival))]) == m_start[i]\n",
    "  for j in range(len(m_arrival)):\n",
    "      problem += lpSum([path_variables[i][j] for i in range(len(m_start))]) == m_arrival[j]\n",
    "  # Utilise la méthode solve() associee à l'objet de type LpProblem pour resoudre le problème de programmation lineaire  \n",
    "  problem.solve()\n",
    "\n",
    "  # Stocke les resultats dans un dictionnaire\n",
    "  result = {}\n",
    "  for v in problem.variables():\n",
    "      route = v.name.split(\"_\")[1:]\n",
    "      i, j = int(route[0]), int(route[1])\n",
    "      result[i, j] = v.varValue\n",
    "  # Construit la matrice de couplage / le plan de transport optimal  \n",
    "  optimal_plan = np.zeros((len(m_start), len(m_arrival)))\n",
    "  for i, j in result.keys():\n",
    "    optimal_plan[i,j] = result[i, j]\n",
    "  return optimal_plan\n"
   ]
  },
  {
   "cell_type": "code",
   "execution_count": 861,
   "metadata": {},
   "outputs": [
    {
     "name": "stdout",
     "output_type": "stream",
     "text": [
      "Welcome to the CBC MILP Solver \n",
      "Version: 2.10.5 \n",
      "Build Date: Dec  8 2020 \n",
      "\n",
      "command line - cbc /tmp/41d45748ed6640068b82e32df6cd887b-pulp.mps timeMode elapsed branch printingOptions all solution /tmp/41d45748ed6640068b82e32df6cd887b-pulp.sol (default strategy 1)\n",
      "At line 2 NAME          MODEL\n",
      "At line 3 ROWS\n",
      "At line 11 COLUMNS\n",
      "At line 57 RHS\n",
      "At line 64 BOUNDS\n",
      "At line 74 ENDATA\n",
      "Problem MODEL has 6 rows, 9 columns and 18 elements\n",
      "Coin0008I MODEL read with 0 errors\n",
      "Option for timeMode changed from cpu to elapsed\n",
      "Continuous objective value is 3.52347e+06 - 0.00 seconds\n",
      "Cgl0004I processed model has 6 rows, 9 columns (9 integer (0 of which binary)) and 18 elements\n",
      "Cutoff increment increased from 1e-05 to 0.0312187\n",
      "Cbc0012I Integer solution of 3523471.2 found by greedy equality after 0 iterations and 0 nodes (0.01 seconds)\n",
      "Cbc0001I Search completed - best objective 3523471.25, took 0 iterations and 0 nodes (0.01 seconds)\n",
      "Cbc0035I Maximum depth 0, 0 variables fixed on reduced cost\n",
      "Cuts at root node changed objective from 3.52347e+06 to 3.52347e+06\n",
      "Probing was tried 0 times and created 0 cuts of which 0 were active after adding rounds of cuts (0.000 seconds)\n",
      "Gomory was tried 0 times and created 0 cuts of which 0 were active after adding rounds of cuts (0.000 seconds)\n",
      "Knapsack was tried 0 times and created 0 cuts of which 0 were active after adding rounds of cuts (0.000 seconds)\n",
      "Clique was tried 0 times and created 0 cuts of which 0 were active after adding rounds of cuts (0.000 seconds)\n",
      "MixedIntegerRounding2 was tried 0 times and created 0 cuts of which 0 were active after adding rounds of cuts (0.000 seconds)\n",
      "FlowCover was tried 0 times and created 0 cuts of which 0 were active after adding rounds of cuts (0.000 seconds)\n",
      "TwoMirCuts was tried 0 times and created 0 cuts of which 0 were active after adding rounds of cuts (0.000 seconds)\n",
      "ZeroHalf was tried 0 times and created 0 cuts of which 0 were active after adding rounds of cuts (0.000 seconds)\n",
      "\n",
      "Result - Optimal solution found\n",
      "\n",
      "Objective value:                3523471.25000000\n",
      "Enumerated nodes:               0\n",
      "Total iterations:               0\n",
      "Time (CPU seconds):             0.01\n",
      "Time (Wallclock seconds):       0.02\n",
      "\n",
      "Option for printingOptions changed from normal to all\n",
      "Total time (CPU seconds):       0.01   (Wallclock seconds):       0.02\n",
      "\n",
      "[[  796. 24604.     0.]\n",
      " [23416.     0.     0.]\n",
      " [ 6991.     0. 12353.]]\n"
     ]
    }
   ],
   "source": [
    "optimal_plan = optimal_solve(cost_matrix, m_start, m_arrival)\n",
    "print(optimal_plan)"
   ]
  },
  {
   "cell_type": "code",
   "execution_count": 862,
   "metadata": {},
   "outputs": [],
   "source": [
    "def map_labels(img_array):\n",
    "    map = {}\n",
    "    size = img_array.size // 3\n",
    "    \n"
   ]
  },
  {
   "cell_type": "code",
   "execution_count": 863,
   "metadata": {},
   "outputs": [],
   "source": [
    "def recolorized_image_array(img1_array, pixel_matrix2, optimal_plan, kmeans1, kmeans2, m_start):\n",
    "        \n",
    "    res = np.zeros_like(pixel_matrix2)\n",
    "    unavailable_mass = [0 for l in range(len(m_start))]\n",
    "    for j in range(kmeans2.cluster_centers_.shape[0]):\n",
    "        counter = 0\n",
    "        arg_cluster = np.where(kmeans2.labels_ == j)[0]\n",
    "        for i in range(kmeans1.cluster_centers_.shape[0]):\n",
    "            if optimal_plan[i][j] != 0.:\n",
    "                target_positions = np.where(kmeans1.labels_ == i)[0][unavailable_mass[i]: unavailable_mass[i] + int(optimal_plan[i][j])]\n",
    "                print(target_positions)\n",
    "                for pos in target_positions:\n",
    "                    #print(pixel_matrix2[arg_cluster[counter]])\n",
    "                    #print(res.shape, pixel_matrix2.shape)\n",
    "                    #print(pos)\n",
    "                    #print(pos)\n",
    "                    #print(counter)\n",
    "                    #print(arg_cluster[counter])\n",
    "                    #print(res[pos], pixel_matrix2[arg_cluster[counter]])\n",
    "                    res[pos] = pixel_matrix2[arg_cluster[counter]]\n",
    "                    counter += 1\n",
    "                unavailable_mass[i] += int(optimal_plan[i][j])\n",
    "    new_img = res.reshape(img1_array.shape)\n",
    "    return new_img"
   ]
  },
  {
   "cell_type": "code",
   "execution_count": 864,
   "metadata": {},
   "outputs": [
    {
     "name": "stdout",
     "output_type": "stream",
     "text": [
      "[   0    1    2    3    4    5    6    7    8    9   10   11   12   13\n",
      "   14   15   16   17   18   19   20   21   22  124  125  126  127  128\n",
      "  129  130  131  132  133  149  150  151  152  153  154  155  156  157\n",
      "  158  159  160  161  162  163  164  165  166  167  168  169  170  171\n",
      "  172  173  174  175  176  177  178  179  180  181  182  183  184  185\n",
      "  186  187  188  189  190  194  195  196  234  235  236  237  238  239\n",
      "  240  241  242  243  244  320  321  322  323  324  325  326  327  328\n",
      "  329  330  331  332  333  334  335  336  337  338  339  340  341  342\n",
      "  343  428  429  430  431  432  433  434  435  436  437  438  439  440\n",
      "  441  442  443  444  445  446  447  448  449  472  473  474  475  476\n",
      "  477  478  479  480  481  482  483  484  485  486  487  488  489  490\n",
      "  491  503  504  505  506  555  556  557  558  559  560  561  562  563\n",
      "  564  565  591  593  594  595  596  597  598  599  603  604  605  606\n",
      "  607  608  609  610  611  612  613  614  640  641  642  643  644  645\n",
      "  646  647  648  649  650  651  652  653  654  655  656  657  658  659\n",
      "  660  661  662  744  745  746  747  748  749  750  751  752  753  754\n",
      "  755  756  757  758  759  760  761  762  763  764  765  766  767  768\n",
      "  797  798  799  800  801  802  803  804  805  806  878  879  880  881\n",
      "  882  883  884  885  886  910  911  912  913  914  915  928  929  930\n",
      "  931  932  933  934  935  960  961  962  963  964  965  966  967  968\n",
      "  969  970  971  972  973  974  975  976  977  979  980  981 1027 1028\n",
      " 1029 1030 1031 1032 1062 1063 1064 1065 1066 1067 1068 1069 1070 1071\n",
      " 1072 1073 1074 1075 1076 1077 1078 1079 1080 1081 1082 1083 1084 1201\n",
      " 1202 1203 1204 1205 1206 1207 1229 1230 1231 1232 1233 1251 1252 1253\n",
      " 1254 1280 1281 1282 1283 1284 1285 1286 1287 1288 1289 1290 1291 1292\n",
      " 1293 1296 1297 1299 1300 1301 1346 1351 1352 1353 1380 1381 1382 1383\n",
      " 1384 1385 1386 1387 1388 1522 1523 1524 1525 1526 1527 1528 1548 1549\n",
      " 1550 1572 1600 1601 1602 1603 1604 1605 1606 1607 1608 1609 1610 1611\n",
      " 1612 1613 1614 1615 1616 1617 1618 1619 1665 1670 1671 1672 1673 1674\n",
      " 1698 1699 1700 1701 1702 1703 1704 1705 1706 1843 1844 1845 1846 1847\n",
      " 1848 1867 1868 1869 1920 1921 1922 1923 1924 1925 1926 1927 1928 1929\n",
      " 1930 1931 1932 1933 1934 1935 1936 1937 1938 1939 1940 1941 1984 1990\n",
      " 1991 1994 2016 2017 2018 2019 2020 2021 2022 2023 2164 2165 2166 2167\n",
      " 2168 2169 2186 2187 2188 2189 2240 2241 2242 2243 2244 2245 2246 2247\n",
      " 2248 2249 2250 2251 2252 2253 2254 2255 2256 2257 2258 2259 2260 2261\n",
      " 2262 2303 2310 2314 2333 2334 2335 2336 2337 2338 2339 2340 2341 2347\n",
      " 2348 2349 2350 2351 2352 2353 2354 2355 2356 2357 2358 2485 2486 2487\n",
      " 2488 2489 2490 2491 2493 2494 2495 2496 2497 2498 2499 2505 2506 2507\n",
      " 2508 2509 2517 2560 2561 2562 2563 2564 2565 2566 2567 2568 2569 2570\n",
      " 2571 2572 2573 2574 2575 2576 2577 2578 2579 2580 2581 2582 2583 2584\n",
      " 2623 2630 2647 2648 2649 2650 2651 2652 2653 2654 2655 2656 2657 2658\n",
      " 2659 2667 2668 2669 2670 2671 2672 2673 2674 2675 2676 2677 2678 2806\n",
      " 2807 2808 2809 2810 2811 2812 2813 2814 2815 2816 2817 2818 2819 2820\n",
      " 2822 2823 2824 2825 2826 2827 2828 2829 2830 2837 2876 2880 2881 2882\n",
      " 2883 2884 2885 2886 2887 2888 2889 2890 2891 2892 2893 2894 2895 2896\n",
      " 2897 2898 2899 2900 2901 2902 2903 2904 2905 2942 2950 2964 2965 2966\n",
      " 2967 2968 2969 2970 2971 2972 2973 2974 2975 2976 2977 2987 2988 2989\n",
      " 2990 2991 2992 2993 2994 2995 2996 2997 2998 3107 3108 3109 3110 3127\n",
      " 3128 3129 3130 3131 3132 3133 3134 3135 3136 3137 3138 3139 3140 3141\n",
      " 3142 3143 3144 3145 3146 3147 3148 3149 3157 3195 3196 3197 3198 3200\n",
      " 3201 3202 3203 3204 3205 3206 3207 3208 3209 3210 3211 3212 3213 3214\n",
      " 3215 3216 3217 3218 3219 3220 3221 3222 3223 3224 3225 3226 3227 3228\n",
      " 3233 3234 3235 3236 3237 3238 3239 3261 3262 3270 3271 3275 3281 3282\n",
      " 3283 3284 3285 3286 3287 3288 3289 3290 3291 3306 3307 3308 3309 3310\n",
      " 3311 3312 3313 3314 3315 3316 3317 3318 3424 3425 3426 3427 3428 3429\n",
      " 3430 3431 3432 3448 3449 3450 3451 3452 3453 3454 3455 3456 3457 3458\n",
      " 3459 3460 3462 3463 3464 3465 3466 3467 3468 3469 3477 3515]\n",
      "[   70   111   112 ... 68086 68134 68135]\n",
      "[   23    24    25 ... 21221 21222 21223]\n",
      "[ 3516  3517  3518 ... 68054 68067 68069]\n",
      "[21224 21225 21227 ... 68157 68158 68159]\n"
     ]
    }
   ],
   "source": [
    "test_img = recolorized_image_array(img1_array, pixel_matrix2, optimal_plan, kmeans1, kmeans2, m_start)"
   ]
  },
  {
   "cell_type": "code",
   "execution_count": 865,
   "metadata": {},
   "outputs": [],
   "source": [
    "Image.fromarray(test_img).show()\n",
    "Image.fromarray(test_img).save('planete7.jpg')"
   ]
  },
  {
   "cell_type": "code",
   "execution_count": null,
   "metadata": {},
   "outputs": [],
   "source": []
  }
 ],
 "metadata": {
  "kernelspec": {
   "display_name": "base",
   "language": "python",
   "name": "python3"
  },
  "language_info": {
   "codemirror_mode": {
    "name": "ipython",
    "version": 3
   },
   "file_extension": ".py",
   "mimetype": "text/x-python",
   "name": "python",
   "nbconvert_exporter": "python",
   "pygments_lexer": "ipython3",
   "version": "3.9.13"
  },
  "orig_nbformat": 4,
  "vscode": {
   "interpreter": {
    "hash": "0b69aab57f2a7a06b785198a96cb1f25f01187f038a0e42eac04670237f59431"
   }
  }
 },
 "nbformat": 4,
 "nbformat_minor": 2
}
