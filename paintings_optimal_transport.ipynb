{
 "cells": [
  {
   "attachments": {},
   "cell_type": "markdown",
   "metadata": {},
   "source": [
    "# Transport optimal"
   ]
  },
  {
   "cell_type": "code",
   "execution_count": 1,
   "metadata": {},
   "outputs": [],
   "source": [
    "from PIL import Image\n",
    "import numpy as np\n",
    "import matplotlib.pyplot as plt"
   ]
  },
  {
   "attachments": {},
   "cell_type": "markdown",
   "metadata": {},
   "source": [
    "## Images"
   ]
  },
  {
   "cell_type": "code",
   "execution_count": 2,
   "metadata": {},
   "outputs": [],
   "source": [
    "def PIL_to_array(img_file_path):\n",
    "    img = Image.open(img_file_path)\n",
    "    img = np.array(img, dtype=np.uint8)\n",
    "    return img\n",
    "\n",
    "def crop(img, crop_width, crop_height):\n",
    "    height, width, _ = img.shape\n",
    "    start_height = crop_height // 2\n",
    "    end_height   = height - crop_height // 2\n",
    "\n",
    "    start_width  = crop_width // 2\n",
    "    end_width    = width - crop_width // 2\n",
    "\n",
    "    return img[start_height:end_height, start_width:end_width,  :]"
   ]
  },
  {
   "cell_type": "code",
   "execution_count": 3,
   "metadata": {},
   "outputs": [
    {
     "name": "stdout",
     "output_type": "stream",
     "text": [
      "Size of first image: (20, 21, 3)\n",
      "Size of second image: (20, 21, 3)\n"
     ]
    },
    {
     "data": {
      "image/png": "[encoded data removed]",
      "text/plain": [
       "<Figure size 640x480 with 2 Axes>"
      ]
     },
     "metadata": {},
     "output_type": "display_data"
    }
   ],
   "source": [
    "img_file_path = \"delaunay.jpeg\"\n",
    "delaunay = PIL_to_array(img_file_path)[:480,:,:]\n",
    "crop_height = 460\n",
    "crop_width = 275\n",
    "delaunay = crop(delaunay, crop_width, crop_height)\n",
    "print(\"Size of first image:\", delaunay.shape)\n",
    "\n",
    "img_file_path = \"vermer.jpeg\"\n",
    "vermer = PIL_to_array(img_file_path)\n",
    "crop_width = vermer.shape[1] - delaunay.shape[1]\n",
    "vermer = crop(vermer, crop_width, crop_height)\n",
    "print(\"Size of second image:\", vermer.shape)\n",
    "\n",
    "# Plot figure\n",
    "fig, (ax0, ax1) = plt.subplots(1,2)\n",
    "ax0.imshow(delaunay)\n",
    "ax1.imshow(vermer)\n",
    "plt.show()\n"
   ]
  },
  {
   "attachments": {},
   "cell_type": "markdown",
   "metadata": {},
   "source": [
    "## Utils"
   ]
  },
  {
   "cell_type": "code",
   "execution_count": 4,
   "metadata": {},
   "outputs": [],
   "source": [
    "import math\n",
    "from pulp import *"
   ]
  },
  {
   "cell_type": "code",
   "execution_count": 5,
   "metadata": {},
   "outputs": [],
   "source": [
    "def get_cost_matrix(img1, img2):\n",
    "\n",
    "    height, width, _ = img1.shape\n",
    "\n",
    "    res = np.zeros((height * width, height * width), dtype=np.float16)\n",
    "    row_idx = 0\n",
    "\n",
    "    for line1 in img1:\n",
    "        for pix1 in line1:\n",
    "            col_idx = 0\n",
    "            for line2 in img2:\n",
    "                for pix2 in line2:\n",
    "                    res[row_idx, col_idx] = math.dist(pix1, pix2)\n",
    "                    col_idx += 1\n",
    "            row_idx += 1\n",
    "\n",
    "    return res"
   ]
  },
  {
   "cell_type": "code",
   "execution_count": 6,
   "metadata": {},
   "outputs": [],
   "source": [
    "def optimal_solve(costs, m_start, m_arrival):\n",
    "  \n",
    "  # Initialise les variables du problème\n",
    "  problem = LpProblem(\"Optimal_transport\", LpMinimize)\n",
    "  paths = [(i, j) for i in range(len(m_start)) for j in range(len(m_arrival))]\n",
    "  \n",
    "  path_variables = LpVariable.dicts(\"Path\", (range(len(m_start)), range(len(m_arrival))),\n",
    "                                lowBound=0, cat='Integer')\n",
    "\n",
    "  # Définit la fonction objective\n",
    "  problem += lpSum([path_variables[i][j] * costs[i][j] for (i, j) in paths])\n",
    "\n",
    "  # Pose les contraintes\n",
    "  for i in range(len(m_start)):\n",
    "      problem += lpSum([path_variables[i][j] for j in range(len(m_arrival))]) == m_start[i]\n",
    "  #print(problem)\n",
    "  for j in range(len(m_arrival)):\n",
    "      problem += lpSum([path_variables[i][j] for i in range(len(m_start))]) == m_arrival[j]\n",
    "\n",
    "  problem.solve()\n",
    "\n",
    "  result = {}\n",
    "  for v in problem.variables():\n",
    "      route = v.name.split(\"_\")[1:]\n",
    "      i, j = int(route[0]), int(route[1])\n",
    "      result[i, j] = v.varValue\n",
    "\n",
    "  optimal_plane = np.zeros((len(m_start), len(m_arrival)))\n",
    "  for i, j in result.keys():\n",
    "    optimal_plane[i,j] = result[i, j]\n",
    "\n",
    "  #print(f\"Plan de transport optimal :\\n{optimal_plane}\")  \n",
    "  #print(problem.objective)\n",
    "  #print(f\"Coût minimal: {value(problem.objective)}\")\n",
    "  return optimal_plane"
   ]
  },
  {
   "cell_type": "code",
   "execution_count": 7,
   "metadata": {},
   "outputs": [],
   "source": [
    "costs = get_cost_matrix(delaunay, vermer)"
   ]
  },
  {
   "cell_type": "code",
   "execution_count": 8,
   "metadata": {},
   "outputs": [
    {
     "name": "stdout",
     "output_type": "stream",
     "text": [
      "Welcome to the CBC MILP Solver \n",
      "Version: 2.10.5 \n",
      "Build Date: Dec  8 2020 \n",
      "\n",
      "command line - cbc /tmp/0a7610668a0646b390b86c7dd9c3e26e-pulp.mps timeMode elapsed branch printingOptions all solution /tmp/0a7610668a0646b390b86c7dd9c3e26e-pulp.sol (default strategy 1)\n",
      "At line 2 NAME          MODEL\n",
      "At line 3 ROWS\n",
      "At line 845 COLUMNS\n",
      "At line 882846 RHS\n",
      "At line 883687 BOUNDS\n",
      "At line 1060088 ENDATA\n",
      "Problem MODEL has 840 rows, 176400 columns and 352800 elements\n",
      "Coin0008I MODEL read with 0 errors\n",
      "Option for timeMode changed from cpu to elapsed\n",
      "Continuous objective value is 39329.8 - 3.06 seconds\n",
      "Cgl0004I processed model has 840 rows, 176400 columns (176400 integer (176400 of which binary)) and 352800 elements\n",
      "Cbc0038I Initial state - 0 integers unsatisfied sum - 0\n",
      "Cbc0038I Solution found of 39329.8\n",
      "Cbc0038I Before mini branch and bound, 176400 integers at bound fixed and 0 continuous\n",
      "Cbc0038I Mini branch and bound did not improve solution (6.33 seconds)\n",
      "Cbc0038I After 6.33 seconds - Feasibility pump exiting with objective of 39329.8 - took 0.12 seconds\n",
      "Cbc0012I Integer solution of 39329.812 found by feasibility pump after 0 iterations and 0 nodes (6.34 seconds)\n",
      "Cbc0001I Search completed - best objective 39329.8125, took 0 iterations and 0 nodes (6.37 seconds)\n",
      "Cbc0035I Maximum depth 0, 0 variables fixed on reduced cost\n",
      "Cuts at root node changed objective from 39329.8 to 39329.8\n",
      "Probing was tried 0 times and created 0 cuts of which 0 were active after adding rounds of cuts (0.000 seconds)\n",
      "Gomory was tried 0 times and created 0 cuts of which 0 were active after adding rounds of cuts (0.000 seconds)\n",
      "Knapsack was tried 0 times and created 0 cuts of which 0 were active after adding rounds of cuts (0.000 seconds)\n",
      "Clique was tried 0 times and created 0 cuts of which 0 were active after adding rounds of cuts (0.000 seconds)\n",
      "MixedIntegerRounding2 was tried 0 times and created 0 cuts of which 0 were active after adding rounds of cuts (0.000 seconds)\n",
      "FlowCover was tried 0 times and created 0 cuts of which 0 were active after adding rounds of cuts (0.000 seconds)\n",
      "TwoMirCuts was tried 0 times and created 0 cuts of which 0 were active after adding rounds of cuts (0.000 seconds)\n",
      "ZeroHalf was tried 0 times and created 0 cuts of which 0 were active after adding rounds of cuts (0.000 seconds)\n",
      "\n",
      "Result - Optimal solution found\n",
      "\n",
      "Objective value:                39329.81250000\n",
      "Enumerated nodes:               0\n",
      "Total iterations:               0\n",
      "Time (CPU seconds):             6.34\n",
      "Time (Wallclock seconds):       6.50\n",
      "\n",
      "Option for printingOptions changed from normal to all\n",
      "Total time (CPU seconds):       6.70   (Wallclock seconds):       6.87\n",
      "\n"
     ]
    }
   ],
   "source": [
    "m_start = [1 for i in range(vermer.shape[0] * vermer.shape[1])]\n",
    "m_end   = [1 for i in range(delaunay.shape[0] * delaunay.shape[1])]\n",
    "\n",
    "optimal_plane = optimal_solve(costs, m_start, m_end)"
   ]
  },
  {
   "cell_type": "code",
   "execution_count": 9,
   "metadata": {},
   "outputs": [
    {
     "name": "stdout",
     "output_type": "stream",
     "text": [
      "[[0. 0. 0. ... 0. 0. 0.]\n",
      " [0. 0. 0. ... 0. 0. 0.]\n",
      " [0. 0. 0. ... 0. 0. 0.]\n",
      " ...\n",
      " [0. 0. 0. ... 0. 0. 0.]\n",
      " [0. 0. 0. ... 0. 0. 0.]\n",
      " [0. 0. 0. ... 0. 0. 0.]]\n"
     ]
    }
   ],
   "source": [
    "print(optimal_plane)"
   ]
  },
  {
   "cell_type": "code",
   "execution_count": 10,
   "metadata": {},
   "outputs": [],
   "source": [
    "def get_coordinates(coordinates, matrix_width):\n",
    "    return (coordinates // matrix_width, coordinates % matrix_width)"
   ]
  },
  {
   "cell_type": "code",
   "execution_count": 11,
   "metadata": {},
   "outputs": [],
   "source": [
    "def new_image(optimal_plane, img_source):\n",
    "    \n",
    "    img_res = np.zeros_like(img_source, dtype=np.uint8)\n",
    "    matrix_width = img_res.shape[1]\n",
    "    args = np.argwhere(optimal_plane == 1)\n",
    "    for start_pixel, end_pixel in args:\n",
    "        x, y = get_coordinates(start_pixel, matrix_width)\n",
    "        w, z = get_coordinates(end_pixel, matrix_width)\n",
    "        img_res[x][y] = img_source[w][z]\n",
    "    return img_res"
   ]
  },
  {
   "cell_type": "code",
   "execution_count": 12,
   "metadata": {},
   "outputs": [],
   "source": [
    "recolored_image = new_image(optimal_plane, delaunay)"
   ]
  },
  {
   "cell_type": "code",
   "execution_count": 13,
   "metadata": {},
   "outputs": [
    {
     "data": {
      "image/png": "[encoded data removed]",
      "text/plain": [
       "<Figure size 640x480 with 3 Axes>"
      ]
     },
     "metadata": {},
     "output_type": "display_data"
    }
   ],
   "source": [
    "# Plot figure\n",
    "fig, (ax0, ax1, ax2) = plt.subplots(1,3)\n",
    "ax0.imshow(delaunay)\n",
    "ax1.imshow(vermer)\n",
    "ax2.imshow(recolored_image)\n",
    "plt.show()"
   ]
  }
 ],
 "metadata": {
  "kernelspec": {
   "display_name": "base",
   "language": "python",
   "name": "python3"
  },
  "language_info": {
   "codemirror_mode": {
    "name": "ipython",
    "version": 3
   },
   "file_extension": ".py",
   "mimetype": "text/x-python",
   "name": "python",
   "nbconvert_exporter": "python",
   "pygments_lexer": "ipython3",
   "version": "3.9.13"
  },
  "orig_nbformat": 4,
  "vscode": {
   "interpreter": {
    "hash": "c8cc5b7cf7ab45a4eb9c5d10fcde61976ab495d4e3d71a8f87de6440d779c3fd"
   }
  }
 },
 "nbformat": 4,
 "nbformat_minor": 2
}
